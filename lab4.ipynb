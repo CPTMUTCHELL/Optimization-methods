{
 "cells": [
  {
   "cell_type": "markdown",
   "metadata": {},
   "source": [
    "<html>\n",
    "<head>\n",
    "\t<title></title>\n",
    "</head>\n",
    "<body>\n",
    "<h2 style=\"text-align: center;line-height: 120%;\">ФЕДЕРАЛЬНОЕ ГОСУДАРСТВЕННОЕ БЮДЖЕТНОЕ ОБРАЗОВАТЕЛЬНОЕ УЧРЕЖДЕНИЕ ВЫСШЕГО ОБРАЗОВАНИЯ НАЦИОНАЛЬНЫЙ ИССЛЕДОВАТЕЛЬСКИЙ УНИВЕРСИТЕТ «МОСКОВСКИЙ ЭНЕРГЕТИЧЕСКИЙ ИНСТИТУТ» Кафедра «РЗиАЭ»</h2>\n",
    "<h2 style=\"text-align: center;line-height: 20%;\">Лабораторная работа №4</h2>\n",
    "\n",
    "<h3 style=\"text-align: center;line-height: 80%;\"><em>Исследование симплекс метода решения задач оптимизации</em></h3>\n",
    "\n",
    "<p style=\"text-align: right;line-height: 40%;\">Выполнил: студент группы Э-13м-19</p>\n",
    "\n",
    "<p style=\"text-align: right;line-height: 40%;\">Шмыков А.Д.</p>\n",
    "\n",
    "<p style=\"text-align: right;line-height: 40%;\">Проверил: Грачева Н.П.</p>\n",
    "<h4 style=\"text-align: center;line-height: 100%;\"><em> Москва, 2020</em></h3>\n",
    "</body>\n",
    "</html>"
   ]
  },
  {
   "cell_type": "markdown",
   "metadata": {},
   "source": [
    "Импорт библиотек и загрузка матрицы (приведение к канонической форме) и вывод исходной симплекс таблицы. В качестве исходных базисов примем добавленные переменные. Если исходных неравенств три, то и добавленных переменных тоже три."
   ]
  },
  {
   "cell_type": "code",
   "execution_count": 6,
   "metadata": {},
   "outputs": [
    {
     "name": "stdout",
     "output_type": "stream",
     "text": [
      "      x1    x2    x3   x4   x5   x6      X\n",
      "x4  30.0  21.0  23.0  1.0  0.0  0.0  426.0\n",
      "x5  22.0  41.0   6.0  0.0  1.0  0.0  632.0\n",
      "x6  17.0  23.0  11.0  0.0  0.0  1.0  533.0\n",
      "L   -2.0  -3.0  -5.0 -0.0 -0.0 -0.0   -0.0\n"
     ]
    }
   ],
   "source": [
    "import numpy as np\n",
    "import pandas as pd\n",
    "\n",
    "np.set_printoptions(suppress = True) #to avoid e-0... form\n",
    "A = np.array([[30, 21, 23, 1, 0, 0,426],\n",
    "             [22, 41, 6, 0, 1, 0,632],\n",
    "             [17, 23, 11, 0, 0, 1,533],\n",
    "              [2,3,5,0,0,0,0]],float)\n",
    "\n",
    "A[-1][:]*=-1 # домножаем оценки L на -1\n",
    "columns = [\"x1\",\"x2\",\"x3\",\"x4\",\"x5\",\"x6\",\"X\"]\n",
    "index = [\"x4\" , \"x5\" , \"x6\" , \"L\"]\n",
    "df = pd.DataFrame ( A , columns = columns ,\n",
    "                    index = index )\n",
    "print(df)"
   ]
  },
  {
   "cell_type": "markdown",
   "metadata": {},
   "source": [
    "Выполняем симплекс метод до тех пор, пока не будет достигнут критерий оптимальности. Если индексная строка (оценки L) симплексной таблицы не содержит отрицательных элементов, то достигнутое опорное решение являетсяо птимальным."
   ]
  },
  {
   "cell_type": "code",
   "execution_count": 7,
   "metadata": {},
   "outputs": [
    {
     "name": "stdout",
     "output_type": "stream",
     "text": [
      "Столбик выбр базиса  [[23.]\n",
      " [ 6.]\n",
      " [11.]\n",
      " [-5.]]\n",
      "строка наим отнош  [0]\n",
      "x3\n",
      "0\n",
      "           x1         x2   x3        x4   x5   x6           X\n",
      "x3   1.304348   0.913043  1.0  0.043478  0.0  0.0   18.521739\n",
      "x5  14.173913  35.521739  0.0 -0.260870  1.0  0.0  520.869565\n",
      "x6   2.652174  12.956522  0.0 -0.478261  0.0  1.0  329.260870\n",
      "L    4.521739   1.565217  0.0  0.217391  0.0  0.0   92.608696\n",
      "3 : 18\n",
      "Max revenue:  92.6086956521739\n"
     ]
    }
   ],
   "source": [
    "while ((A[-1 , :] < 0).any()): #проверка на оптимальность\n",
    "\n",
    "    mini = np.min( A[-1][:] ) #минимум в строке оценок\n",
    "    # print(mini)\n",
    "    i = np.where( A == mini )  # строка, столбец наименьшей оценки в А\n",
    "\n",
    "    min_row = A[: , i[1]]  # столбик выбранного базиса\n",
    "    print(\"Столбик выбр базиса \",min_row)\n",
    "    div = np.delete( A[: , -1] / min_row[: , 0] , -1 )  # симпл.отношение\n",
    "    i1 = np.where( div == np.min( div ) )  # наименьшое из отнощений\n",
    "    print(\"строка наим отнош \",i1[0])\n",
    "    # коорд замены базиса\n",
    "    rep1 = \"x\" + str( i[1] + 1 ).lstrip( '[' ).rstrip( ']' ) # выбранный базис по наим. оценке\n",
    "    rep2 = int( str( i1[0] ).lstrip( '[' ).rstrip( ']' ) )  #базис от наим. из отношений\n",
    "    print( rep1 )\n",
    "    print( rep2 )\n",
    "    \n",
    "    A[i1[0] , :] = A[i1[0] , :] / A[i1[0] , i[1]]  # деление новой базисной строки на пересечение наим оценки и наим отношен\n",
    "\n",
    "    if ((A[i1[0] , :] != A[0 , :]).any()):  # ставим нашу строку первой для удобства\n",
    "        temp1 = A[i1[0] , :]\n",
    "        temp2 = A[0 , :]\n",
    "        A[i1[0] , :] = temp2\n",
    "        A[0 , :] = temp1\n",
    "\n",
    "    for j in range( 0 , len( A ) - 1 ): #проходимся по индексам и меняем базисы в табл\n",
    "        A[j + 1 , :] = A[0 , :] * (-1) * A[j + 1 , i[1]] + A[j + 1 , :]\n",
    "        index.index( index[0] )\n",
    "        if rep2 == index.index( index[j] ):\n",
    "            index[j] = rep1\n",
    "    # Ставим строки на свои места, чтоб соответствовали своим базисам\n",
    "    temp1 = A[0 , :]\n",
    "    temp2 = A[i1[0] , :][0]\n",
    "    A[i1[0] , :] = temp1\n",
    "    A[0 , :] = temp2\n",
    "    df = pd.DataFrame( A , columns = columns ,\n",
    "                       index = index )\n",
    "\n",
    "    print( df )\n",
    "for i in range( 0 , 3 ): # проходимся по всем базисам\n",
    "    if ((A[: , i]) == 1).any(): #если есть 1\n",
    "        ind = np.where( A[: , i] == 1 ) # берем координаты\n",
    "        print( i + 1 , \":\" , int( A[ind[0] , -1] ) ) #выбираем базис (товар) и его значение\n",
    "        print(\"Max revenue: \",A[-1,-1])"
   ]
  },
  {
   "cell_type": "markdown",
   "metadata": {},
   "source": [
    "В результате выполнения задачи оптимизации по получению максимальной прибыли было установлено, что необходимо купить 18ед товара 3, чтоб получить максимальную прибыль. "
   ]
  },
  {
   "cell_type": "code",
   "execution_count": null,
   "metadata": {},
   "outputs": [],
   "source": []
  }
 ],
 "metadata": {
  "kernelspec": {
   "display_name": "Python 3",
   "language": "python",
   "name": "python3"
  },
  "language_info": {
   "codemirror_mode": {
    "name": "ipython",
    "version": 3
   },
   "file_extension": ".py",
   "mimetype": "text/x-python",
   "name": "python",
   "nbconvert_exporter": "python",
   "pygments_lexer": "ipython3",
   "version": "3.7.6"
  }
 },
 "nbformat": 4,
 "nbformat_minor": 4
}
