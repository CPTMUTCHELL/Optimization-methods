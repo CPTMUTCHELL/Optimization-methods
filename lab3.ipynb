{
 "cells": [
  {
   "cell_type": "markdown",
   "metadata": {},
   "source": [
    "<html>\n",
    "<head>\n",
    "\t<title></title>\n",
    "</head>\n",
    "<body>\n",
    "<h2 style=\"text-align: center;line-height: 120%;\">ФЕДЕРАЛЬНОЕ ГОСУДАРСТВЕННОЕ БЮДЖЕТНОЕ ОБРАЗОВАТЕЛЬНОЕ УЧРЕЖДЕНИЕ ВЫСШЕГО ОБРАЗОВАНИЯ НАЦИОНАЛЬНЫЙ ИССЛЕДОВАТЕЛЬСКИЙ УНИВЕРСИТЕТ «МОСКОВСКИЙ ЭНЕРГЕТИЧЕСКИЙ ИНСТИТУТ» Кафедра «РЗиАЭ»</h2>\n",
    "<h2 style=\"text-align: center;line-height: 20%;\">Лабораторная работа №3</h2>\n",
    "\n",
    "<h3 style=\"text-align: center;line-height: 80%;\"><em>Исследование генетического алгоритма для решения задач оптимизации </em></h3>\n",
    "\n",
    "<p style=\"text-align: right;line-height: 40%;\">Выполнил: студент группы Э-13м-19</p>\n",
    "\n",
    "<p style=\"text-align: right;line-height: 40%;\">Шмыков А.Д.</p>\n",
    "\n",
    "<p style=\"text-align: right;line-height: 40%;\">Проверил: Грачева Н.П.</p>\n",
    "<h4 style=\"text-align: center;line-height: 100%;\"><em> Москва, 2020</em></h3>\n",
    "</body>\n",
    "</html>"
   ]
  },
  {
   "cell_type": "markdown",
   "metadata": {},
   "source": [
    "Libraries and data import"
   ]
  },
  {
   "cell_type": "code",
   "execution_count": 62,
   "metadata": {},
   "outputs": [],
   "source": [
    "import random as r\n",
    "import numpy as np\n",
    "import re\n",
    "import time\n",
    "geneset1 = \"абвгдеёжзийклмнопрстуфхцчшщъыьэюяАБВГДЕЁЖЗИЙКЛМНОПРСТУФХЦЧШЩЪЫЬЭЮЯ\"\n",
    "target1=\"узор\"\n",
    "target12=\"ГНоМ\"\n",
    "\n",
    "geneset2 = \" абвгдеёжзийклмнопрстуфхцчшщъыьэюяАБВГДЕЁЖЗИЙКЛМНОПРСТУФХЦЧШЩЪЫЬЭЮЯabCDEFGHIJKLMNOPQRSTUVWXYZABCDEFGHIJKLMNOPQRSTUVWXYZ\"\n",
    "target2=\"Новостное агентство NASA сообщило\"\n",
    "\n",
    "geneset3 = \" абвгдеёжзийклмнопрстуфхцчшщъыьэюяАБВГДЕЁЖЗИЙКЛМНОПРСТУФХЦЧШЩЪЫЬЭЮЯ-.,!:;?«»—\"\n",
    "target3=\"Старик поднял глаза и произнес с расстановкою: — Здесь нет дел по крепостям. — А где же? — Это в крепостной \" \\\n",
    "       \"экспедиции. — А где же крепостная экспедиция? — Это у Ивана Антоновича. \""
   ]
  },
  {
   "cell_type": "markdown",
   "metadata": {},
   "source": [
    "Угадывание слова полным перебором"
   ]
  },
  {
   "cell_type": "code",
   "execution_count": 69,
   "metadata": {},
   "outputs": [
    {
     "name": "stdout",
     "output_type": "stream",
     "text": [
      "Г\n",
      "ГН\n",
      "ГНо\n",
      "ГНоМ\n"
     ]
    },
    {
     "data": {
      "text/plain": [
       "0.0002134000005753478"
      ]
     },
     "execution_count": 69,
     "metadata": {},
     "output_type": "execute_result"
    }
   ],
   "source": [
    "def brute_force(target, geneset):\n",
    "    start = time.perf_counter()\n",
    "    res=\"\"\n",
    "    for i in range(0, len(target)):\n",
    "        for j in range(0, len(geneset)):\n",
    "            if geneset[j]==target[i]:\n",
    "                res+=geneset[j]\n",
    "                print(res)\n",
    "    end = time.perf_counter()\n",
    "    return end - start\n",
    "\n",
    "brute_force(target12, geneset1)"
   ]
  },
  {
   "cell_type": "markdown",
   "metadata": {},
   "source": [
    "**Мой алгоритм использует:**\n",
    "\n",
    "Селекцию усечением\n",
    "\n",
    "Одноточечный кроссовер для скрещивания особей, выбранных селекцией\n",
    "\n",
    "Битовую мутацию оставшихся особей в популяции после скрещивания с шансом мутации 1/длина цели\n"
   ]
  },
  {
   "cell_type": "markdown",
   "metadata": {},
   "source": [
    "Functions declaration"
   ]
  },
  {
   "cell_type": "code",
   "execution_count": 56,
   "metadata": {},
   "outputs": [],
   "source": [
    "def start(length, pop_size, geneset, target): #Creation of a start population only once\n",
    "    population = dict()\n",
    "    genes = \"\"\n",
    "    for i in range(pop_size): \n",
    "        for j in range(0, length):\n",
    "            random_gene = r.choice(geneset)\n",
    "            genes += random_gene #adding symbols\n",
    "        population[genes] = fitness(genes, target) # calc fitness\n",
    "        genes = \"\"\n",
    "    return population\n",
    "\n",
    "def fitness(species , target): #Fitness count\n",
    "    fit = 0\n",
    "    for i in range(0, len(species)):\n",
    "        if target[i] == species[i]:\n",
    "            fit += 1\n",
    "    return fit\n",
    "\n",
    "def cut(population): # truncation selection\n",
    "    sorted_by_value = sorted(population.items(), key=lambda kv: kv[1], reverse=True) #high vals first\n",
    "    population = dict(sorted_by_value)\n",
    "    parent = list(population.keys())[0] #picking species with the highest fitness\n",
    "    del population[parent]\n",
    "    if (list(population.keys())[0] == 0):\n",
    "        parent = r.choice(list(population.keys())) #picking random\n",
    "        del population[parent]\n",
    "\n",
    "    return parent, population\n",
    "\n",
    "def crossover(parentA, parentB,target): #1-point crossover\n",
    "    if r.random() < 0.7:\n",
    "        random_index = r.randint(1, len(target) - 1)\n",
    "        parentASlice = parentA[:random_index]\n",
    "        parentBSlice = parentB[random_index:]\n",
    "        return (parentASlice + parentBSlice), (parentB[:random_index] + parentA[random_index:])\n",
    "    return parentA, parentB\n",
    "\n",
    "def mutate(population, newPopulation,target,geneset):\n",
    "    for pop in population:\n",
    "        for i in range(len(pop)):\n",
    "            if  1 / len(target) > r.random(): #Mutation chance\n",
    "              \n",
    "                random_gene = r.choice(geneset)\n",
    "                pop = pop[:i] + random_gene + pop[i + 1:]\n",
    "        newPopulation[pop] = fitness(pop, target)\n",
    "\n",
    "\n",
    "def new(population,target,geneset): #new pop creation\n",
    "    newPopulation = dict()\n",
    "    for i in range(0, round(pop_size * 0.25)):  # half of the population to be crossed over\n",
    "        parent1, population = cut(population)\n",
    "        parent2, population = cut(population)\n",
    "\n",
    "        child1, child2 = crossover(parent1, parent2,target)\n",
    "        newPopulation[child1] = fitness(child1, target)\n",
    "        newPopulation[child2] = fitness(child2, target)\n",
    "\n",
    "    mutate(population, newPopulation,target,geneset) #mutate the remaining half\n",
    "    \n",
    "    return newPopulation\n",
    "\n",
    "def output(population,target):\n",
    "    key_list = list(population.keys())\n",
    "    val_list = list(population.values())\n",
    "    output = key_list[val_list.index(len(target))]\n",
    "    return output"
   ]
  },
  {
   "cell_type": "markdown",
   "metadata": {},
   "source": [
    "Угадывание четырехбуквенного русскоязычного слова"
   ]
  },
  {
   "cell_type": "code",
   "execution_count": 27,
   "metadata": {},
   "outputs": [
    {
     "name": "stdout",
     "output_type": "stream",
     "text": [
      "узор gen: 9 time: 0.13685220000024856\n"
     ]
    }
   ],
   "source": [
    "found=False\n",
    "gen=0\n",
    "pop_size=len(geneset1)*5\n",
    "\n",
    "population=start(len(target1),pop_size,geneset1,target1)\n",
    "start = time.perf_counter()\n",
    "while(not found):\n",
    "    if (target1 in population):\n",
    "        end = time.perf_counter()\n",
    "        alh_time = end-start\n",
    "        found=True\n",
    "        res=output(population,target1)\n",
    "        print(res,\"gen:\",gen,\"time:\",alh_time)\n",
    "    else:\n",
    "        gen+=1\n",
    "        population=new(population,target1,geneset1)\n",
    "        best = max ( population , key = population.get ) # best among population\n",
    "     "
   ]
  },
  {
   "cell_type": "markdown",
   "metadata": {},
   "source": [
    "Угадывание  фразы,  содержащей  как  слова  на  русском языке, так и слова на иностранном языке"
   ]
  },
  {
   "cell_type": "code",
   "execution_count": 30,
   "metadata": {},
   "outputs": [
    {
     "name": "stdout",
     "output_type": "stream",
     "text": [
      "Новостное агентство NASA сообщило gen: 478 time: 4.674147300000186\n"
     ]
    }
   ],
   "source": [
    "found=False\n",
    "gen=0\n",
    "pop_size=len(geneset2)*2\n",
    "population=start(len(target2),pop_size,geneset2,target2)\n",
    "start = time.perf_counter()\n",
    "while(not found):\n",
    "    if (target2 in population):\n",
    "        end = time.perf_counter()\n",
    "        alh_time = end-start\n",
    "        found=True\n",
    "        res=output(population,target2)\n",
    "        print(res,\"gen:\",gen,\"time:\",alh_time)\n",
    "    else:\n",
    "        gen+=1\n",
    "        population=new(population,target2,geneset2)\n",
    "        best = max ( population , key = population.get ) # best among population"
   ]
  },
  {
   "cell_type": "markdown",
   "metadata": {},
   "source": [
    "Угадывание русскоязычной фразы\n",
    "Старик поднял глаза и произнес с расстановкою: — Здесь нет дел по крепостям. — А где же? — Это в крепостной экспедиции. — А где же крепостная экспедиция? — Это у Ивана Антоновича.  gen: 6331 time: 85.78700589999971\n"
   ]
  },
  {
   "cell_type": "code",
   "execution_count": 37,
   "metadata": {},
   "outputs": [
    {
     "name": "stdout",
     "output_type": "stream",
     "text": [
      "Старик поднял глаза и произнес с расстановкою: — Здесь нет дел по крепостям. — А где же? — Это в крепостной экспедиции. — А где же крепостная экспедиция? — Это у Ивана Антоновича.  gen: 6331 time: 85.78700589999971\n"
     ]
    }
   ],
   "source": [
    "found=False\n",
    "gen=0\n",
    "pop_size=len(geneset3)*2\n",
    "population=start(len(target3),pop_size,geneset3,target3)\n",
    "start = time.perf_counter()\n",
    "while(not found):\n",
    "    if (target3 in population):\n",
    "        end = time.perf_counter()\n",
    "        alh_time = end-start\n",
    "        found=True\n",
    "        res=output(population,target3)\n",
    "        print(res,\"gen:\",gen,\"time:\",alh_time)\n",
    "    else:\n",
    "        gen+=1\n",
    "        population=new(population,target3,geneset3)\n",
    "        best = max ( population , key = population.get ) # best among population"
   ]
  },
  {
   "cell_type": "markdown",
   "metadata": {},
   "source": [
    "В качестве модернизации я предложил разбиение цели на две одинаковые части, каждую из которых будет \"обрабатывать\" своя полупяция."
   ]
  },
  {
   "cell_type": "code",
   "execution_count": 57,
   "metadata": {},
   "outputs": [
    {
     "name": "stdout",
     "output_type": "stream",
     "text": [
      "Старик поднял глаза и произнес с расстановкою: — Здесь нет дел по крепостям. — А где же? — Это в крепостной экспедиции. — А где же крепостная экспедиция? — Это у Ивана Антоновича.  gen: 4548 time: 71.6469717\n"
     ]
    }
   ],
   "source": [
    "found=False\n",
    "gen=0\n",
    "pop_size=len(geneset3)*2\n",
    "part1 = target3[0:len(target3)//2]\n",
    "part2 = target3[len(target3)//2:]\n",
    "population=start(len(part1),pop_size,geneset3,part1)\n",
    "population2=start(len(part2),pop_size,geneset3,part2)\n",
    "start = time.perf_counter()\n",
    "while(not found):\n",
    "    if (part1 in population) and (part2 in population2):\n",
    "        end = time.perf_counter()\n",
    "        alh_time = end-start\n",
    "        found=True\n",
    "        res=output(population,part1)+output(population2,part2)\n",
    "        print(res,\"gen:\",gen,\"time:\",alh_time)\n",
    "    else:\n",
    "        gen+=1\n",
    "        population=new(population,target3,geneset3)\n",
    "        population2=new(population2,part2,geneset3)\n",
    "        best = max ( population , key = population.get ) # best among population"
   ]
  },
  {
   "cell_type": "markdown",
   "metadata": {},
   "source": [
    "Старик поднял глаза и произнес с расстановкою: — Здесь нет дел по крепостям. — А где же? — Это в крепостной экспедиции. — А где же крепостная экспедиция? — Это у Ивана Антоновича.  gen: 4548 time: 71.6469717\n",
    "\n",
    "**В результате модернизации время выполнения алгоритма уменьшилось на 15 секунд.**"
   ]
  }
 ],
 "metadata": {
  "kernelspec": {
   "display_name": "Python 3",
   "language": "python",
   "name": "python3"
  },
  "language_info": {
   "codemirror_mode": {
    "name": "ipython",
    "version": 3
   },
   "file_extension": ".py",
   "mimetype": "text/x-python",
   "name": "python",
   "nbconvert_exporter": "python",
   "pygments_lexer": "ipython3",
   "version": "3.7.6"
  }
 },
 "nbformat": 4,
 "nbformat_minor": 4
}
